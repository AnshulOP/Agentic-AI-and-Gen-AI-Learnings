{
 "cells": [
  {
   "cell_type": "code",
   "execution_count": 1,
   "metadata": {},
   "outputs": [
    {
     "data": {
      "text/plain": [
       "True"
      ]
     },
     "execution_count": 1,
     "metadata": {},
     "output_type": "execute_result"
    }
   ],
   "source": [
    "import os\n",
    "from dotenv import load_dotenv\n",
    "load_dotenv()"
   ]
  },
  {
   "cell_type": "code",
   "execution_count": 2,
   "metadata": {},
   "outputs": [],
   "source": [
    "os.environ[\"GOOGLE_API_KEY\"] = os.getenv(\"GOOGLE_API_KEY\")\n",
    "os.environ[\"GROQ_API_KEY\"] = os.getenv(\"GROQ_API_KEY\")\n",
    "\n",
    "# LangSmith Tracing and Tracking\n",
    "os.environ[\"LANGSMITH_API_KEY\"] = os.getenv(\"LANGSMITH_API_KEY\")\n",
    "os.environ[\"LANGSMITH_PROJECT\"] = os.getenv(\"LANGSMITH_PROJECT\")\n",
    "os.environ[\"LANGSMITH_TRACING\"] = os.getenv(\"LANGSMITH_TRACING\")"
   ]
  },
  {
   "cell_type": "code",
   "execution_count": 3,
   "metadata": {},
   "outputs": [],
   "source": [
    "from langchain_groq import ChatGroq\n",
    "from langchain_core.prompts import ChatPromptTemplate\n",
    "from langchain_core.output_parsers import PydanticOutputParser\n",
    "\n",
    "from pydantic import BaseModel, Field\n",
    "from typing import Optional\n",
    "\n",
    "llm = ChatGroq(model=\"gemma2-9b-it\")\n",
    "\n",
    "class Product(BaseModel):\n",
    "    name : str = Field(..., description = \"Name of the Product\")\n",
    "    details : str = Field(..., description = \"Core Details related to the Product\")\n",
    "    price : int = Field(..., description = \"Tentaive Price for the Product in $ (Dollars)\")\n",
    "\n",
    "parser = PydanticOutputParser(pydantic_object = Product)\n",
    "format_instructions = parser.get_format_instructions()\n",
    "\n",
    "chat_prompt = ChatPromptTemplate.from_messages([\n",
    "    ('system', \"You are an Product Assistant. Your task is to extract relevant information about the product given following instructions: \\n{format_instructions} \"),\n",
    "    ('human', \"Product : {product}\")\n",
    "])"
   ]
  },
  {
   "cell_type": "markdown",
   "metadata": {},
   "source": [
    "##### Without Chaining (for understanding flow)"
   ]
  },
  {
   "cell_type": "code",
   "execution_count": 4,
   "metadata": {},
   "outputs": [
    {
     "name": "stdout",
     "output_type": "stream",
     "text": [
      "[SystemMessage(content='You are an Product Assistant. Your task is to extract relevant information about the product given following instructions: \\nThe output should be formatted as a JSON instance that conforms to the JSON schema below.\\n\\nAs an example, for the schema {\"properties\": {\"foo\": {\"title\": \"Foo\", \"description\": \"a list of strings\", \"type\": \"array\", \"items\": {\"type\": \"string\"}}}, \"required\": [\"foo\"]}\\nthe object {\"foo\": [\"bar\", \"baz\"]} is a well-formatted instance of the schema. The object {\"properties\": {\"foo\": [\"bar\", \"baz\"]}} is not well-formatted.\\n\\nHere is the output schema:\\n```\\n{\"properties\": {\"name\": {\"description\": \"Name of the Product\", \"title\": \"Name\", \"type\": \"string\"}, \"details\": {\"description\": \"Core Details related to the Product\", \"title\": \"Details\", \"type\": \"string\"}, \"price\": {\"description\": \"Tentaive Price for the Product in $ (Dollars)\", \"title\": \"Price\", \"type\": \"integer\"}}, \"required\": [\"name\", \"details\", \"price\"]}\\n``` ', additional_kwargs={}, response_metadata={}), HumanMessage(content='Product : Nvidia RTX 4080', additional_kwargs={}, response_metadata={})]\n"
     ]
    }
   ],
   "source": [
    "final_prompt = chat_prompt.invoke({\n",
    "    'format_instructions' : format_instructions,\n",
    "    'product' : \"Nvidia RTX 4080\"\n",
    "})\n",
    "print(final_prompt.messages)"
   ]
  },
  {
   "cell_type": "code",
   "execution_count": 5,
   "metadata": {},
   "outputs": [
    {
     "name": "stdout",
     "output_type": "stream",
     "text": [
      "```json\n",
      "{\n",
      "  \"name\": \"Nvidia RTX 4080\",\n",
      "  \"details\": \"High-performance graphics card\",\n",
      "  \"price\": 1199\n",
      "}\n",
      "```\n"
     ]
    }
   ],
   "source": [
    "result = llm.invoke(final_prompt)\n",
    "print(result.content)"
   ]
  },
  {
   "cell_type": "code",
   "execution_count": 6,
   "metadata": {},
   "outputs": [
    {
     "name": "stdout",
     "output_type": "stream",
     "text": [
      "name='Nvidia RTX 4080' details='High-performance graphics card' price=1199\n"
     ]
    }
   ],
   "source": [
    "final_result = parser.parse(result.content)\n",
    "print(final_result)"
   ]
  },
  {
   "cell_type": "markdown",
   "metadata": {},
   "source": [
    "##### With Chaining"
   ]
  },
  {
   "cell_type": "code",
   "execution_count": 7,
   "metadata": {},
   "outputs": [
    {
     "name": "stdout",
     "output_type": "stream",
     "text": [
      "name='Nvidia RTX 4080' details='High-performance graphics card' price=1200\n"
     ]
    }
   ],
   "source": [
    "chain = chat_prompt | llm | parser\n",
    "\n",
    "chain_result = chain.invoke({\n",
    "    'format_instructions' : format_instructions,\n",
    "    'product' : \"Nvidia RTX 4080\"\n",
    "})\n",
    "print(chain_result)"
   ]
  },
  {
   "cell_type": "markdown",
   "metadata": {},
   "source": [
    "Overall Workflow"
   ]
  },
  {
   "cell_type": "code",
   "execution_count": 8,
   "metadata": {},
   "outputs": [
    {
     "name": "stdout",
     "output_type": "stream",
     "text": [
      "    +-------------+      \n",
      "    | PromptInput |      \n",
      "    +-------------+      \n",
      "            *            \n",
      "            *            \n",
      "            *            \n",
      " +--------------------+  \n",
      " | ChatPromptTemplate |  \n",
      " +--------------------+  \n",
      "            *            \n",
      "            *            \n",
      "            *            \n",
      "      +----------+       \n",
      "      | ChatGroq |       \n",
      "      +----------+       \n",
      "            *            \n",
      "            *            \n",
      "            *            \n",
      "+----------------------+ \n",
      "| PydanticOutputParser | \n",
      "+----------------------+ \n",
      "            *            \n",
      "            *            \n",
      "            *            \n",
      "      +---------+        \n",
      "      | Product |        \n",
      "      +---------+        \n"
     ]
    }
   ],
   "source": [
    "graph = chain.get_graph()\n",
    "print(graph.draw_ascii())"
   ]
  }
 ],
 "metadata": {
  "kernelspec": {
   "display_name": ".venv",
   "language": "python",
   "name": "python3"
  },
  "language_info": {
   "codemirror_mode": {
    "name": "ipython",
    "version": 3
   },
   "file_extension": ".py",
   "mimetype": "text/x-python",
   "name": "python",
   "nbconvert_exporter": "python",
   "pygments_lexer": "ipython3",
   "version": "3.11.7"
  }
 },
 "nbformat": 4,
 "nbformat_minor": 2
}
